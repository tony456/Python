{
  "nbformat": 4,
  "nbformat_minor": 0,
  "metadata": {
    "colab": {
      "name": "class练习.ipynb",
      "version": "0.3.2",
      "provenance": [],
      "include_colab_link": true
    },
    "kernelspec": {
      "name": "python3",
      "display_name": "Python 3"
    }
  },
  "cells": [
    {
      "cell_type": "markdown",
      "metadata": {
        "id": "view-in-github",
        "colab_type": "text"
      },
      "source": [
        "<a href=\"https://colab.research.google.com/github/tony456/Python/blob/master/class%E7%BB%83%E4%B9%A0.ipynb\" target=\"_parent\"><img src=\"https://colab.research.google.com/assets/colab-badge.svg\" alt=\"Open In Colab\"/></a>"
      ]
    },
    {
      "cell_type": "code",
      "metadata": {
        "id": "TJ1CfM5x6SX9",
        "colab_type": "code",
        "colab": {
          "base_uri": "https://localhost:8080/",
          "height": 51
        },
        "outputId": "2817b00c-532d-4ab1-920c-835e096b0502"
      },
      "source": [
        "class Student():\n",
        "  name='学生'\n",
        "  age=18\n",
        "  like=('学习')\n",
        "  def love(self):\n",
        "    \n",
        "    print('我是一个{}，今年{}，喜欢{}'.format(self.name,self.age,__class__.like))\n",
        "  def __init__(self):\n",
        "    print('我是一个好学生')\n",
        "tony=Student()\n",
        "tony.love()"
      ],
      "execution_count": 7,
      "outputs": [
        {
          "output_type": "stream",
          "text": [
            "我是一个好学生\n",
            "我是一个学生，今年18，喜欢学习\n"
          ],
          "name": "stdout"
        }
      ]
    }
  ]
}